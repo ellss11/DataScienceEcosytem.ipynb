{
 "cells": [
  {
   "cell_type": "markdown",
   "metadata": {},
   "source": [
    "|Data Science Tools|\n",
    "|------------------|\n",
    "|Python|\n",
    "|R|"
   ]
  },
  {
   "cell_type": "markdown",
   "metadata": {
    "tags": []
   },
   "source": [
    "## Below are a few examples of evaluating arithmetic expressions in Python\n",
    "\n",
    "### Example 1: Basic Arithmetic Operations\n",
    "```python\n",
    "# Addition\n",
    "result = 2 + 3\n",
    "print(\"2 + 3 =\", result)  # Output: 2 + 3 = 5\n",
    "\n",
    "# Subtraction\n",
    "result = 10 - 4\n",
    "print(\"10 - 4 =\", result)  # Output: 10 - 4 = 6\n",
    "\n",
    "# Multiplication\n",
    "result = 7 * 5\n",
    "print(\"7 * 5 =\", result)  # Output: 7 * 5 = 35\n",
    "\n",
    "# Division\n",
    "result = 20 / 4\n",
    "print(\"20 / 4 =\", result)  # Output: 20 / 4 = 5.0\n",
    "```\n",
    "\n",
    "### Example 2: Exponentiation and Modulus\n",
    "```python\n",
    "# Exponentiation\n",
    "result = 3 ** 2\n",
    "print(\"3 ** 2 =\", result)  # Output: 3 ** 2 = 9\n",
    "\n",
    "# Modulus\n",
    "result = 10 % 3\n",
    "print(\"10 % 3 =\", result)  # Output: 10 % 3 = 1\n",
    "```\n",
    "\n",
    "### Example 3: Integer Division\n",
    "```python\n",
    "# Integer Division\n",
    "result = 10 // 3\n",
    "print(\"10 // 3 =\", result)  # Output: 10 // 3 = 3\n",
    "```\n",
    "\n",
    "### Example 4: Using Parentheses for Precedence\n",
    "```python\n",
    "# Without Parentheses\n",
    "result = 2 + 3 * 4\n",
    "print(\"2 + 3 * 4 =\", result)  # Output: 2 + 3 * 4 = 14\n",
    "\n",
    "# With Parentheses\n",
    "result = (2 + 3) * 4\n",
    "print(\"(2 + 3) * 4 =\", result)  # Output: (2 + 3) * 4 = 20\n",
    "```\n",
    "\n",
    "### Example 5: Complex Expressions\n",
    "```python\n",
    "# Complex Expression\n",
    "result = (5 + 3) * 2 - 4 / 2 + 3 ** 2\n",
    "print(\"(5 + 3) * 2 - 4 / 2 + 3 ** 2 =\", result)  # Output: (5 + 3) * 2 - 4 / 2 + 3 ** 2 = 23.0\n",
    "```\n",
    "\n",
    "### Example 6: Using Variables in Expressions\n",
    "```python\n",
    "# Variables in Expressions\n",
    "a = 5\n",
    "b = 10\n",
    "c = 3\n",
    "\n",
    "# Expression\n",
    "result = a * b - c + a ** c\n",
    "print(\"5 * 10 - 3 + 5 ** 3 =\", result)  # Output: 5 * 10 - 3 + 5 ** 3 = 132\n",
    "```\n",
    "\n"
   ]
  },
  {
   "cell_type": "code",
   "execution_count": 1,
   "metadata": {
    "tags": []
   },
   "outputs": [
    {
     "name": "stdout",
     "output_type": "stream",
     "text": [
      "17\n"
     ]
    }
   ],
   "source": [
    "# This is a simple arithmetic expression to multiply then add integers\n",
    "result = (3 * 4) + 5\n",
    "print(result)  # Output should be 17\n"
   ]
  },
  {
   "cell_type": "code",
   "execution_count": 1,
   "metadata": {
    "tags": []
   },
   "outputs": [
    {
     "name": "stdout",
     "output_type": "stream",
     "text": [
      "3.3333333333333335\n"
     ]
    }
   ],
   "source": [
    "# This will convert 200 minutes to hours by dividing by 60\n",
    "minutes = 200\n",
    "hours = minutes / 60\n",
    "print(hours)"
   ]
  },
  {
   "cell_type": "markdown",
   "metadata": {},
   "source": [
    "## Author "
   ]
  },
  {
   "cell_type": "markdown",
   "metadata": {},
   "source": [
    "Emmanuella Onyejiaka"
   ]
  },
  {
   "cell_type": "markdown",
   "metadata": {},
   "source": [
    "**OBJECTIVES:**"
   ]
  },
  {
   "cell_type": "markdown",
   "metadata": {},
   "source": [
    "- Python \n",
    "- R\n",
    "- SQL \n",
    "- Scala\n",
    "- MATLAB"
   ]
  },
  {
   "cell_type": "markdown",
   "metadata": {},
   "source": [
    "## Some of the popular languages that Data Scientists use are:"
   ]
  },
  {
   "cell_type": "markdown",
   "metadata": {},
   "source": [
    "1. Python \n",
    "2. SQL \n",
    "3. R\n",
    "4. Scala\n",
    "5. Javascript"
   ]
  },
  {
   "cell_type": "markdown",
   "metadata": {},
   "source": [
    "## Some of the commonly used libraries used by Data Scientists include:"
   ]
  },
  {
   "cell_type": "markdown",
   "metadata": {},
   "source": [
    "1. Numpy\n",
    "2. pandas\n",
    "3. Scipy\n",
    "4. dplyr (R)"
   ]
  },
  {
   "cell_type": "code",
   "execution_count": null,
   "metadata": {},
   "outputs": [],
   "source": []
  }
 ],
 "metadata": {
  "kernelspec": {
   "display_name": "Python",
   "language": "python",
   "name": "conda-env-python-py"
  },
  "language_info": {
   "codemirror_mode": {
    "name": "ipython",
    "version": 3
   },
   "file_extension": ".py",
   "mimetype": "text/x-python",
   "name": "python",
   "nbconvert_exporter": "python",
   "pygments_lexer": "ipython3",
   "version": "3.7.12"
  }
 },
 "nbformat": 4,
 "nbformat_minor": 4
}
